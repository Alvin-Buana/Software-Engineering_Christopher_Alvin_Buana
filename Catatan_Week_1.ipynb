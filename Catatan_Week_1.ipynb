{
  "nbformat": 4,
  "nbformat_minor": 0,
  "metadata": {
    "colab": {
      "name": "Catatan Week 1.ipynb",
      "provenance": [],
      "collapsed_sections": []
    },
    "kernelspec": {
      "name": "python3",
      "display_name": "Python 3"
    },
    "language_info": {
      "name": "python"
    }
  },
  "cells": [
    {
      "cell_type": "markdown",
      "metadata": {
        "id": "6RByU8LR-PtN"
      },
      "source": [
        "# VARIABLES AND DATA TYPES\n"
      ]
    },
    {
      "cell_type": "code",
      "metadata": {
        "id": "3I15AGkF1ddU"
      },
      "source": [
        "\n",
        "a = 10\n",
        "b = \"Halo\"\n",
        "c = 1.3\n",
        "d = True\n",
        "e = False\n",
        "f =[]\n",
        "g = [1,2,3]\n",
        "h = [1,'a']\n",
        "i = {}\n",
        "j = {'a':1, 'b':\"Apin\",'c':True}\n",
        "k = ()\n",
        "l = (\"a\",12,True)"
      ],
      "execution_count": 7,
      "outputs": []
    },
    {
      "cell_type": "markdown",
      "metadata": {
        "id": "NJN8DHJD-SJX"
      },
      "source": [
        "# PRINT"
      ]
    },
    {
      "cell_type": "code",
      "metadata": {
        "colab": {
          "base_uri": "https://localhost:8080/"
        },
        "id": "E3fy1NCP2vkY",
        "outputId": "bc81a23b-55b2-4dba-c692-1988d9d0e358"
      },
      "source": [
        "#ordinary print\n",
        "print(a)\n",
        "print(b)\n",
        "print(c)"
      ],
      "execution_count": 8,
      "outputs": [
        {
          "output_type": "stream",
          "name": "stdout",
          "text": [
            "10\n",
            "Halo\n",
            "1.3\n"
          ]
        }
      ]
    },
    {
      "cell_type": "code",
      "metadata": {
        "colab": {
          "base_uri": "https://localhost:8080/"
        },
        "id": "mmlEbTBe24kU",
        "outputId": "c6f7abc1-8e4e-4ec1-a127-84f0a4ea3030"
      },
      "source": [
        "#print a dictionary or any other list\n",
        "print(j['b'])\n",
        "print(g[1])\n",
        "print(h[1])\n",
        "print(l[2])"
      ],
      "execution_count": 18,
      "outputs": [
        {
          "output_type": "stream",
          "name": "stdout",
          "text": [
            "Apin\n",
            "2\n",
            "a\n",
            "True\n"
          ]
        }
      ]
    },
    {
      "cell_type": "code",
      "metadata": {
        "colab": {
          "base_uri": "https://localhost:8080/"
        },
        "id": "xE7HrHl2-nLr",
        "outputId": "f17ec69f-e6a8-420c-999a-d5b55783e9f5"
      },
      "source": [
        "#other form of print\n",
        "print(\"Halo nama saya \",j['b'])"
      ],
      "execution_count": 12,
      "outputs": [
        {
          "output_type": "stream",
          "name": "stdout",
          "text": [
            "Halo nama saya  Apin\n"
          ]
        }
      ]
    },
    {
      "cell_type": "code",
      "metadata": {
        "colab": {
          "base_uri": "https://localhost:8080/"
        },
        "id": "_ei7wQTh-w93",
        "outputId": "adb38efd-17d5-443f-f90d-f95d7d9b3a21"
      },
      "source": [
        "print(\"Halo nama saya \"+j['b'])"
      ],
      "execution_count": 13,
      "outputs": [
        {
          "output_type": "stream",
          "name": "stdout",
          "text": [
            "Halo nama saya Apin\n"
          ]
        }
      ]
    },
    {
      "cell_type": "code",
      "metadata": {
        "colab": {
          "base_uri": "https://localhost:8080/"
        },
        "id": "E2MwmWWm_BKd",
        "outputId": "749e6b56-6525-4695-af41-e4735a7f0e7f"
      },
      "source": [
        "print(\"Halo nama saya {}\".format(j['b']))"
      ],
      "execution_count": 14,
      "outputs": [
        {
          "output_type": "stream",
          "name": "stdout",
          "text": [
            "Halo nama saya Apin\n"
          ]
        }
      ]
    },
    {
      "cell_type": "markdown",
      "metadata": {
        "id": "tRwvDiNU-fA6"
      },
      "source": [
        "# OPERATOR"
      ]
    },
    {
      "cell_type": "code",
      "metadata": {
        "id": "aVduuBRy-gll"
      },
      "source": [
        "value_1 = 15\n",
        "value_2 = 5\n",
        "result = value_1 + value_2\n",
        "result = value_1 - value_2\n",
        "result = value_1 * value_2\n",
        "result = value_1 ** value_2\n",
        "result = value_1 / value_2\n",
        "result = value_1 // value_2\n"
      ],
      "execution_count": 16,
      "outputs": []
    },
    {
      "cell_type": "markdown",
      "metadata": {
        "id": "bgP5IAUI-VFR"
      },
      "source": [
        "# IF ELSE\n"
      ]
    },
    {
      "cell_type": "code",
      "metadata": {
        "colab": {
          "base_uri": "https://localhost:8080/"
        },
        "id": "2PlFj5_z26hQ",
        "outputId": "ab70e622-4a93-4a29-dace-781ee41c1ef0"
      },
      "source": [
        "test_value = 10.5\n",
        "if ( test_value <10):\n",
        "  print(\"Dibawah 10\")\n",
        "elif (test_value >10):\n",
        "  print(\"Diatas 10\")\n",
        "else:\n",
        "  print(\"sama dengan 10\")"
      ],
      "execution_count": 17,
      "outputs": [
        {
          "output_type": "stream",
          "name": "stdout",
          "text": [
            "Diatas 10\n"
          ]
        }
      ]
    },
    {
      "cell_type": "code",
      "metadata": {
        "id": "jRPnb42w_teT"
      },
      "source": [
        ""
      ],
      "execution_count": null,
      "outputs": []
    }
  ]
}