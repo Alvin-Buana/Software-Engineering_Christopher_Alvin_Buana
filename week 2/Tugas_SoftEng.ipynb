{
  "nbformat": 4,
  "nbformat_minor": 0,
  "metadata": {
    "colab": {
      "name": "Tugas SoftEng.ipynb",
      "provenance": []
    },
    "kernelspec": {
      "name": "python3",
      "display_name": "Python 3"
    },
    "language_info": {
      "name": "python"
    }
  },
  "cells": [
    {
      "cell_type": "code",
      "metadata": {
        "id": "aRms1XX93LuD"
      },
      "source": [
        "def Average (a,key):\n",
        "  return sum(a[key])/len(a[key])"
      ],
      "execution_count": null,
      "outputs": []
    },
    {
      "cell_type": "code",
      "metadata": {
        "id": "ugDbesDnwYYO",
        "colab": {
          "base_uri": "https://localhost:8080/"
        },
        "outputId": "5aa04757-b584-4e4d-9c48-25dbea9ede74"
      },
      "source": [
        "from statistics import mean\n",
        "nilai={}\n",
        "loop = int(input(\"How many students :\"))\n",
        "for i in range(loop):\n",
        "  name = str(input(\"Input nama murid {} : \".format(i+1)))\n",
        "  nilai[name] = [int(x) for x in input(\"Input 3 nilai (Dipisah pake space):\").split()]\n",
        "\n",
        "key = str(input(\"Murid yang ingin diliat rata-rata : \"))\n",
        "if key not in nilai.keys():\n",
        "  print(\"Maaf murid yang bernama {} tidak ada dalam database ini, mohon diulangi kembali.\".format(key))\n",
        "else:\n",
        "  print(\"{}'s average score with statistic library : {}\".format(key,round(mean(nilai[key]),2)))\n",
        "  print(\"{}'s average score with function          : {}\".format(key,round(Average(nilai,key),2)))"
      ],
      "execution_count": null,
      "outputs": [
        {
          "output_type": "stream",
          "name": "stdout",
          "text": [
            "How many students :5\n",
            "Input nama murid 1 : tab\n",
            "Input 3 nilai (Dipisah pake space):100 100 91\n",
            "Input nama murid 2 : iko\n",
            "Input 3 nilai (Dipisah pake space):67 78 89\n",
            "Input nama murid 3 : lai\n",
            "Input 3 nilai (Dipisah pake space):78 57 67\n",
            "Input nama murid 4 : kono\n",
            "Input 3 nilai (Dipisah pake space):88 67 90\n",
            "Input nama murid 5 : hupla\n",
            "Input 3 nilai (Dipisah pake space):44 55 64\n",
            "Murid yang ingin diliat rata-rata : hupla\n",
            "hupla's Average score with statistic library : 54.33\n",
            "hupla's Average score with function          : 54.33\n"
          ]
        }
      ]
    },
    {
      "cell_type": "code",
      "metadata": {
        "id": "eY9Zahsg2iTi"
      },
      "source": [
        ""
      ],
      "execution_count": null,
      "outputs": []
    }
  ]
}