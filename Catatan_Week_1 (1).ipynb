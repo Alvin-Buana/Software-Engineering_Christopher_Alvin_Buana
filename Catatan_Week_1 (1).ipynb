{
  "nbformat": 4,
  "nbformat_minor": 0,
  "metadata": {
    "colab": {
      "name": "Catatan Week 1.ipynb",
      "provenance": [],
      "collapsed_sections": []
    },
    "kernelspec": {
      "name": "python3",
      "display_name": "Python 3"
    },
    "language_info": {
      "name": "python"
    }
  },
  "cells": [
    {
      "cell_type": "markdown",
      "metadata": {
        "id": "6RByU8LR-PtN"
      },
      "source": [
        "# VARIABLES AND DATA TYPES\n"
      ]
    },
    {
      "cell_type": "code",
      "metadata": {
        "id": "3I15AGkF1ddU"
      },
      "source": [
        "\n",
        "a = 10\n",
        "b = \"Halo\"\n",
        "c = 1.3\n",
        "d = True\n",
        "e = False\n",
        "f =[]\n",
        "g = [1,2,3]\n",
        "h = [1,'a']\n",
        "i = {}\n",
        "j = {'a':1, 'b':\"Apin\",'c':True}\n",
        "k = ()\n",
        "l = (\"a\",12,True)"
      ],
      "execution_count": 1,
      "outputs": []
    },
    {
      "cell_type": "markdown",
      "metadata": {
        "id": "NJN8DHJD-SJX"
      },
      "source": [
        "# PRINT"
      ]
    },
    {
      "cell_type": "code",
      "metadata": {
        "colab": {
          "base_uri": "https://localhost:8080/"
        },
        "id": "E3fy1NCP2vkY",
        "outputId": "9828d9f2-57c0-4118-f023-d55dc3d8988d"
      },
      "source": [
        "#ordinary print\n",
        "print(a)\n",
        "print(b)\n",
        "print(c)"
      ],
      "execution_count": 2,
      "outputs": [
        {
          "output_type": "stream",
          "name": "stdout",
          "text": [
            "10\n",
            "Halo\n",
            "1.3\n"
          ]
        }
      ]
    },
    {
      "cell_type": "code",
      "metadata": {
        "colab": {
          "base_uri": "https://localhost:8080/"
        },
        "id": "mmlEbTBe24kU",
        "outputId": "a030b2ac-a0ae-415a-a09a-37676eda0e65"
      },
      "source": [
        "#print a dictionary or any other list\n",
        "print(j['b'])\n",
        "print(g[1])\n",
        "print(h[1])\n",
        "print(l[2])"
      ],
      "execution_count": 3,
      "outputs": [
        {
          "output_type": "stream",
          "name": "stdout",
          "text": [
            "Apin\n",
            "2\n",
            "a\n",
            "True\n"
          ]
        }
      ]
    },
    {
      "cell_type": "code",
      "metadata": {
        "colab": {
          "base_uri": "https://localhost:8080/"
        },
        "id": "xE7HrHl2-nLr",
        "outputId": "317b39bb-7567-4137-f618-6ae9972980c1"
      },
      "source": [
        "#other form of print\n",
        "print(\"Halo nama saya \",j['b'])"
      ],
      "execution_count": 4,
      "outputs": [
        {
          "output_type": "stream",
          "name": "stdout",
          "text": [
            "Halo nama saya  Apin\n"
          ]
        }
      ]
    },
    {
      "cell_type": "code",
      "metadata": {
        "colab": {
          "base_uri": "https://localhost:8080/"
        },
        "id": "_ei7wQTh-w93",
        "outputId": "e9128e9c-4173-4fc9-8d75-1bc348f5ef7a"
      },
      "source": [
        "print(\"Halo nama saya \"+j['b'])"
      ],
      "execution_count": 5,
      "outputs": [
        {
          "output_type": "stream",
          "name": "stdout",
          "text": [
            "Halo nama saya Apin\n"
          ]
        }
      ]
    },
    {
      "cell_type": "code",
      "metadata": {
        "colab": {
          "base_uri": "https://localhost:8080/"
        },
        "id": "E2MwmWWm_BKd",
        "outputId": "06d14fa5-0f3b-4a81-88f9-a711d3af9d11"
      },
      "source": [
        "print(\"Halo nama saya {}\".format(j['b']))"
      ],
      "execution_count": 6,
      "outputs": [
        {
          "output_type": "stream",
          "name": "stdout",
          "text": [
            "Halo nama saya Apin\n"
          ]
        }
      ]
    },
    {
      "cell_type": "markdown",
      "metadata": {
        "id": "tRwvDiNU-fA6"
      },
      "source": [
        "# OPERATOR"
      ]
    },
    {
      "cell_type": "code",
      "metadata": {
        "id": "aVduuBRy-gll",
        "colab": {
          "base_uri": "https://localhost:8080/"
        },
        "outputId": "567cf2b4-a27d-4b96-eebb-6e6babc57bb8"
      },
      "source": [
        "value_1 = 15\n",
        "value_2 = 5\n",
        "result = value_1 + value_2\n",
        "print(result)\n",
        "result = value_1 - value_2\n",
        "print(result)\n",
        "result = value_1 * value_2\n",
        "print(result)\n",
        "result = value_1 ** value_2\n",
        "print(result)\n",
        "result = value_1 / value_2\n",
        "print(result)\n",
        "result = value_1 // value_2\n",
        "print(result)\n",
        "\n",
        "import math\n",
        "\n",
        "math.sqrt(value_1)\n"
      ],
      "execution_count": 7,
      "outputs": [
        {
          "output_type": "stream",
          "name": "stdout",
          "text": [
            "20\n",
            "10\n",
            "75\n",
            "759375\n",
            "3.0\n",
            "3\n"
          ]
        },
        {
          "output_type": "execute_result",
          "data": {
            "text/plain": [
              "3.872983346207417"
            ]
          },
          "metadata": {},
          "execution_count": 7
        }
      ]
    },
    {
      "cell_type": "markdown",
      "metadata": {
        "id": "bgP5IAUI-VFR"
      },
      "source": [
        "# IF ELSE\n"
      ]
    },
    {
      "cell_type": "code",
      "metadata": {
        "colab": {
          "base_uri": "https://localhost:8080/"
        },
        "id": "gIbC2pvKceip",
        "outputId": "b3e314c0-c1cb-41d8-e43a-c2bb1cff7441"
      },
      "source": [
        "a = 1\n",
        "b = 0\n",
        "a==b\n",
        "a!=b\n",
        "a <b\n",
        "a>b\n",
        "a<=b\n",
        "a>=b\n",
        "True and True\n",
        "True or False\n"
      ],
      "execution_count": 8,
      "outputs": [
        {
          "output_type": "execute_result",
          "data": {
            "text/plain": [
              "True"
            ]
          },
          "metadata": {},
          "execution_count": 8
        }
      ]
    },
    {
      "cell_type": "code",
      "metadata": {
        "colab": {
          "base_uri": "https://localhost:8080/"
        },
        "id": "2PlFj5_z26hQ",
        "outputId": "e85c6b93-6ac7-4f1f-bb59-382ef3d08742"
      },
      "source": [
        "test_value = 10.5\n",
        "if ( test_value <10):\n",
        "  print(\"Dibawah 10\")\n",
        "elif (test_value >10):\n",
        "  print(\"Diatas 10\")\n",
        "else:\n",
        "  print(\"sama dengan 10\")"
      ],
      "execution_count": 9,
      "outputs": [
        {
          "output_type": "stream",
          "name": "stdout",
          "text": [
            "Diatas 10\n"
          ]
        }
      ]
    },
    {
      "cell_type": "code",
      "metadata": {
        "id": "jRPnb42w_teT"
      },
      "source": [
        ""
      ],
      "execution_count": 9,
      "outputs": []
    }
  ]
}