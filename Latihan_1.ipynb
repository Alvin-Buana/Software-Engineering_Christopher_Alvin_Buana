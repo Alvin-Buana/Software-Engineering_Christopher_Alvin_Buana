{
  "nbformat": 4,
  "nbformat_minor": 0,
  "metadata": {
    "colab": {
      "name": "Latihan 1.ipynb",
      "provenance": []
    },
    "kernelspec": {
      "name": "python3",
      "display_name": "Python 3"
    },
    "language_info": {
      "name": "python"
    }
  },
  "cells": [
    {
      "cell_type": "code",
      "metadata": {
        "colab": {
          "base_uri": "https://localhost:8080/"
        },
        "id": "SoBbvR6JbA_w",
        "outputId": "a13e9c81-4fbc-4a76-83da-c006d7b8a48b"
      },
      "source": [
        "a = int(input())"
      ],
      "execution_count": 1,
      "outputs": [
        {
          "name": "stdout",
          "output_type": "stream",
          "text": [
            "30\n"
          ]
        }
      ]
    },
    {
      "cell_type": "code",
      "metadata": {
        "id": "ReFpOY2tqOYB",
        "colab": {
          "base_uri": "https://localhost:8080/"
        },
        "outputId": "4bc50ae0-31f0-4d02-9d42-f960719d3aa8"
      },
      "source": [
        "if (a >9 and a <31):\n",
        "  print(\"nilai a ada diantara 10 dan 30\")\n",
        "else:\n",
        "  print(\"nilai a ada 9 kebawah atau 31 keatas\")"
      ],
      "execution_count": 2,
      "outputs": [
        {
          "output_type": "stream",
          "name": "stdout",
          "text": [
            "nilai a ada diantara 10 dan 30\n"
          ]
        }
      ]
    },
    {
      "cell_type": "code",
      "metadata": {
        "id": "SgOk--pZrRL9"
      },
      "source": [
        ""
      ],
      "execution_count": 2,
      "outputs": []
    }
  ]
}